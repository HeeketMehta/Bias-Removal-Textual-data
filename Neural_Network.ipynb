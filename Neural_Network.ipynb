{
  "cells": [
    {
      "cell_type": "code",
      "execution_count": 1,
      "metadata": {
        "colab": {
          "base_uri": "https://localhost:8080/"
        },
        "id": "JymEE5zDFiS-",
        "outputId": "f4111bd7-5629-4c47-bdfd-8fdb4c6ce01d"
      },
      "outputs": [
        {
          "output_type": "stream",
          "name": "stdout",
          "text": [
            "Mounted at /content/gdrive\n"
          ]
        }
      ],
      "source": [
        "from google.colab import drive\n",
        "drive.mount('/content/gdrive')"
      ]
    },
    {
      "cell_type": "code",
      "execution_count": 2,
      "metadata": {
        "id": "x3G-r0kJF-Zy"
      },
      "outputs": [],
      "source": [
        "import pandas as pd\n",
        "import numpy as np\n",
        "\n",
        "#Neural network with keras\n",
        "from numpy import loadtxt\n",
        "from keras.models import Sequential\n",
        "from keras.layers import Dense\n",
        "import tensorflow as tf"
      ]
    },
    {
      "cell_type": "code",
      "execution_count": 3,
      "metadata": {
        "id": "fKFp7hUB-cWE"
      },
      "outputs": [],
      "source": [
        "def converter(instr):\n",
        "  return np.fromstring(instr[1:-1], sep=' ')\n",
        "df1 = pd.read_csv('/content/gdrive/MyDrive/CSE 293/Final_Labelled_data.csv', converters = {'vector' : converter})"
      ]
    },
    {
      "cell_type": "code",
      "execution_count": 4,
      "metadata": {
        "colab": {
          "base_uri": "https://localhost:8080/",
          "height": 423
        },
        "id": "NUSjfO6gI0qL",
        "outputId": "13acb49f-7aca-4146-d907-6ebdee3034f4"
      },
      "outputs": [
        {
          "output_type": "execute_result",
          "data": {
            "text/html": [
              "\n",
              "  <div id=\"df-8b335df4-c8be-45f3-8652-dc9e7dcf8a24\">\n",
              "    <div class=\"colab-df-container\">\n",
              "      <div>\n",
              "<style scoped>\n",
              "    .dataframe tbody tr th:only-of-type {\n",
              "        vertical-align: middle;\n",
              "    }\n",
              "\n",
              "    .dataframe tbody tr th {\n",
              "        vertical-align: top;\n",
              "    }\n",
              "\n",
              "    .dataframe thead th {\n",
              "        text-align: right;\n",
              "    }\n",
              "</style>\n",
              "<table border=\"1\" class=\"dataframe\">\n",
              "  <thead>\n",
              "    <tr style=\"text-align: right;\">\n",
              "      <th></th>\n",
              "      <th>sentences</th>\n",
              "      <th>vector</th>\n",
              "      <th>insult</th>\n",
              "      <th>threat</th>\n",
              "      <th>toxic</th>\n",
              "      <th>severe_toxic</th>\n",
              "      <th>obscene</th>\n",
              "      <th>identity_hate</th>\n",
              "    </tr>\n",
              "  </thead>\n",
              "  <tbody>\n",
              "    <tr>\n",
              "      <th>0</th>\n",
              "      <td>Explanation\\nWhy the edits made under my usern...</td>\n",
              "      <td>[-0.149762571, 0.979635596, 0.487907141, -0.07...</td>\n",
              "      <td>0</td>\n",
              "      <td>0</td>\n",
              "      <td>0</td>\n",
              "      <td>0</td>\n",
              "      <td>0</td>\n",
              "      <td>0</td>\n",
              "    </tr>\n",
              "    <tr>\n",
              "      <th>1</th>\n",
              "      <td>D'aww! He matches this background colour I'm s...</td>\n",
              "      <td>[-0.216807127, 0.994037211, 1.06887007, -0.078...</td>\n",
              "      <td>0</td>\n",
              "      <td>0</td>\n",
              "      <td>0</td>\n",
              "      <td>0</td>\n",
              "      <td>0</td>\n",
              "      <td>0</td>\n",
              "    </tr>\n",
              "    <tr>\n",
              "      <th>2</th>\n",
              "      <td>Hey man, I'm really not trying to edit war. It...</td>\n",
              "      <td>[-0.05925035, 1.0120547, 0.9048715, 0.07462859...</td>\n",
              "      <td>0</td>\n",
              "      <td>0</td>\n",
              "      <td>0</td>\n",
              "      <td>0</td>\n",
              "      <td>0</td>\n",
              "      <td>0</td>\n",
              "    </tr>\n",
              "    <tr>\n",
              "      <th>3</th>\n",
              "      <td>\"\\nMore\\nI can't make any real suggestions on ...</td>\n",
              "      <td>[0.094269976, 0.268280357, 1.49406075, 0.22962...</td>\n",
              "      <td>0</td>\n",
              "      <td>0</td>\n",
              "      <td>0</td>\n",
              "      <td>0</td>\n",
              "      <td>0</td>\n",
              "      <td>0</td>\n",
              "    </tr>\n",
              "    <tr>\n",
              "      <th>4</th>\n",
              "      <td>You, sir, are my hero. Any chance you remember...</td>\n",
              "      <td>[-0.0897224545, 0.0866883174, 1.7766428, 0.459...</td>\n",
              "      <td>0</td>\n",
              "      <td>0</td>\n",
              "      <td>0</td>\n",
              "      <td>0</td>\n",
              "      <td>0</td>\n",
              "      <td>0</td>\n",
              "    </tr>\n",
              "    <tr>\n",
              "      <th>...</th>\n",
              "      <td>...</td>\n",
              "      <td>...</td>\n",
              "      <td>...</td>\n",
              "      <td>...</td>\n",
              "      <td>...</td>\n",
              "      <td>...</td>\n",
              "      <td>...</td>\n",
              "      <td>...</td>\n",
              "    </tr>\n",
              "    <tr>\n",
              "      <th>116221</th>\n",
              "      <td>\"\\n\\n our previous conversation \\n\\nyou fuckin...</td>\n",
              "      <td>[-0.5234871, 1.3174272, 0.04861524, -0.0921449...</td>\n",
              "      <td>1</td>\n",
              "      <td>0</td>\n",
              "      <td>1</td>\n",
              "      <td>0</td>\n",
              "      <td>1</td>\n",
              "      <td>1</td>\n",
              "    </tr>\n",
              "    <tr>\n",
              "      <th>116222</th>\n",
              "      <td>YOU ARE A MISCHIEVIOUS PUBIC HAIR</td>\n",
              "      <td>[0.282848597, 0.824259579, 1.08329594, 0.02613...</td>\n",
              "      <td>1</td>\n",
              "      <td>0</td>\n",
              "      <td>1</td>\n",
              "      <td>0</td>\n",
              "      <td>0</td>\n",
              "      <td>0</td>\n",
              "    </tr>\n",
              "    <tr>\n",
              "      <th>116223</th>\n",
              "      <td>Your absurd edits \\n\\nYour absurd edits on gre...</td>\n",
              "      <td>[-0.0229213387, 1.20757639, 0.342241377, 0.143...</td>\n",
              "      <td>1</td>\n",
              "      <td>0</td>\n",
              "      <td>1</td>\n",
              "      <td>0</td>\n",
              "      <td>1</td>\n",
              "      <td>0</td>\n",
              "    </tr>\n",
              "    <tr>\n",
              "      <th>116224</th>\n",
              "      <td>\"\\n\\nHey listen don't you ever!!!! Delete my e...</td>\n",
              "      <td>[0.0482752658, 0.952668309, 1.00286925, -0.057...</td>\n",
              "      <td>1</td>\n",
              "      <td>0</td>\n",
              "      <td>1</td>\n",
              "      <td>0</td>\n",
              "      <td>0</td>\n",
              "      <td>0</td>\n",
              "    </tr>\n",
              "    <tr>\n",
              "      <th>116225</th>\n",
              "      <td>and i'm going to keep posting the stuff u dele...</td>\n",
              "      <td>[-0.0891888216, 0.824998319, 1.42099011, -0.14...</td>\n",
              "      <td>1</td>\n",
              "      <td>0</td>\n",
              "      <td>1</td>\n",
              "      <td>0</td>\n",
              "      <td>1</td>\n",
              "      <td>0</td>\n",
              "    </tr>\n",
              "  </tbody>\n",
              "</table>\n",
              "<p>116226 rows × 8 columns</p>\n",
              "</div>\n",
              "      <button class=\"colab-df-convert\" onclick=\"convertToInteractive('df-8b335df4-c8be-45f3-8652-dc9e7dcf8a24')\"\n",
              "              title=\"Convert this dataframe to an interactive table.\"\n",
              "              style=\"display:none;\">\n",
              "        \n",
              "  <svg xmlns=\"http://www.w3.org/2000/svg\" height=\"24px\"viewBox=\"0 0 24 24\"\n",
              "       width=\"24px\">\n",
              "    <path d=\"M0 0h24v24H0V0z\" fill=\"none\"/>\n",
              "    <path d=\"M18.56 5.44l.94 2.06.94-2.06 2.06-.94-2.06-.94-.94-2.06-.94 2.06-2.06.94zm-11 1L8.5 8.5l.94-2.06 2.06-.94-2.06-.94L8.5 2.5l-.94 2.06-2.06.94zm10 10l.94 2.06.94-2.06 2.06-.94-2.06-.94-.94-2.06-.94 2.06-2.06.94z\"/><path d=\"M17.41 7.96l-1.37-1.37c-.4-.4-.92-.59-1.43-.59-.52 0-1.04.2-1.43.59L10.3 9.45l-7.72 7.72c-.78.78-.78 2.05 0 2.83L4 21.41c.39.39.9.59 1.41.59.51 0 1.02-.2 1.41-.59l7.78-7.78 2.81-2.81c.8-.78.8-2.07 0-2.86zM5.41 20L4 18.59l7.72-7.72 1.47 1.35L5.41 20z\"/>\n",
              "  </svg>\n",
              "      </button>\n",
              "      \n",
              "  <style>\n",
              "    .colab-df-container {\n",
              "      display:flex;\n",
              "      flex-wrap:wrap;\n",
              "      gap: 12px;\n",
              "    }\n",
              "\n",
              "    .colab-df-convert {\n",
              "      background-color: #E8F0FE;\n",
              "      border: none;\n",
              "      border-radius: 50%;\n",
              "      cursor: pointer;\n",
              "      display: none;\n",
              "      fill: #1967D2;\n",
              "      height: 32px;\n",
              "      padding: 0 0 0 0;\n",
              "      width: 32px;\n",
              "    }\n",
              "\n",
              "    .colab-df-convert:hover {\n",
              "      background-color: #E2EBFA;\n",
              "      box-shadow: 0px 1px 2px rgba(60, 64, 67, 0.3), 0px 1px 3px 1px rgba(60, 64, 67, 0.15);\n",
              "      fill: #174EA6;\n",
              "    }\n",
              "\n",
              "    [theme=dark] .colab-df-convert {\n",
              "      background-color: #3B4455;\n",
              "      fill: #D2E3FC;\n",
              "    }\n",
              "\n",
              "    [theme=dark] .colab-df-convert:hover {\n",
              "      background-color: #434B5C;\n",
              "      box-shadow: 0px 1px 3px 1px rgba(0, 0, 0, 0.15);\n",
              "      filter: drop-shadow(0px 1px 2px rgba(0, 0, 0, 0.3));\n",
              "      fill: #FFFFFF;\n",
              "    }\n",
              "  </style>\n",
              "\n",
              "      <script>\n",
              "        const buttonEl =\n",
              "          document.querySelector('#df-8b335df4-c8be-45f3-8652-dc9e7dcf8a24 button.colab-df-convert');\n",
              "        buttonEl.style.display =\n",
              "          google.colab.kernel.accessAllowed ? 'block' : 'none';\n",
              "\n",
              "        async function convertToInteractive(key) {\n",
              "          const element = document.querySelector('#df-8b335df4-c8be-45f3-8652-dc9e7dcf8a24');\n",
              "          const dataTable =\n",
              "            await google.colab.kernel.invokeFunction('convertToInteractive',\n",
              "                                                     [key], {});\n",
              "          if (!dataTable) return;\n",
              "\n",
              "          const docLinkHtml = 'Like what you see? Visit the ' +\n",
              "            '<a target=\"_blank\" href=https://colab.research.google.com/notebooks/data_table.ipynb>data table notebook</a>'\n",
              "            + ' to learn more about interactive tables.';\n",
              "          element.innerHTML = '';\n",
              "          dataTable['output_type'] = 'display_data';\n",
              "          await google.colab.output.renderOutput(dataTable, element);\n",
              "          const docLink = document.createElement('div');\n",
              "          docLink.innerHTML = docLinkHtml;\n",
              "          element.appendChild(docLink);\n",
              "        }\n",
              "      </script>\n",
              "    </div>\n",
              "  </div>\n",
              "  "
            ],
            "text/plain": [
              "                                                sentences  \\\n",
              "0       Explanation\\nWhy the edits made under my usern...   \n",
              "1       D'aww! He matches this background colour I'm s...   \n",
              "2       Hey man, I'm really not trying to edit war. It...   \n",
              "3       \"\\nMore\\nI can't make any real suggestions on ...   \n",
              "4       You, sir, are my hero. Any chance you remember...   \n",
              "...                                                   ...   \n",
              "116221  \"\\n\\n our previous conversation \\n\\nyou fuckin...   \n",
              "116222                  YOU ARE A MISCHIEVIOUS PUBIC HAIR   \n",
              "116223  Your absurd edits \\n\\nYour absurd edits on gre...   \n",
              "116224  \"\\n\\nHey listen don't you ever!!!! Delete my e...   \n",
              "116225  and i'm going to keep posting the stuff u dele...   \n",
              "\n",
              "                                                   vector  insult  threat  \\\n",
              "0       [-0.149762571, 0.979635596, 0.487907141, -0.07...       0       0   \n",
              "1       [-0.216807127, 0.994037211, 1.06887007, -0.078...       0       0   \n",
              "2       [-0.05925035, 1.0120547, 0.9048715, 0.07462859...       0       0   \n",
              "3       [0.094269976, 0.268280357, 1.49406075, 0.22962...       0       0   \n",
              "4       [-0.0897224545, 0.0866883174, 1.7766428, 0.459...       0       0   \n",
              "...                                                   ...     ...     ...   \n",
              "116221  [-0.5234871, 1.3174272, 0.04861524, -0.0921449...       1       0   \n",
              "116222  [0.282848597, 0.824259579, 1.08329594, 0.02613...       1       0   \n",
              "116223  [-0.0229213387, 1.20757639, 0.342241377, 0.143...       1       0   \n",
              "116224  [0.0482752658, 0.952668309, 1.00286925, -0.057...       1       0   \n",
              "116225  [-0.0891888216, 0.824998319, 1.42099011, -0.14...       1       0   \n",
              "\n",
              "        toxic  severe_toxic  obscene  identity_hate  \n",
              "0           0             0        0              0  \n",
              "1           0             0        0              0  \n",
              "2           0             0        0              0  \n",
              "3           0             0        0              0  \n",
              "4           0             0        0              0  \n",
              "...       ...           ...      ...            ...  \n",
              "116221      1             0        1              1  \n",
              "116222      1             0        0              0  \n",
              "116223      1             0        1              0  \n",
              "116224      1             0        0              0  \n",
              "116225      1             0        1              0  \n",
              "\n",
              "[116226 rows x 8 columns]"
            ]
          },
          "metadata": {},
          "execution_count": 4
        }
      ],
      "source": [
        "df1"
      ]
    },
    {
      "cell_type": "code",
      "execution_count": 5,
      "metadata": {
        "colab": {
          "base_uri": "https://localhost:8080/"
        },
        "id": "GfXiy4eNT6PR",
        "outputId": "b8d490ac-166a-49c4-f129-67cc594705c0"
      },
      "outputs": [
        {
          "output_type": "execute_result",
          "data": {
            "text/plain": [
              "768"
            ]
          },
          "metadata": {},
          "execution_count": 5
        }
      ],
      "source": [
        "len(df1['vector'][0])"
      ]
    },
    {
      "cell_type": "code",
      "execution_count": 6,
      "metadata": {
        "id": "gbrk9Vj1VTR6"
      },
      "outputs": [],
      "source": [
        "X = df1['vector']\n",
        "y = np.array(df1['insult'].to_list())\n",
        "lst = []\n",
        "for i in X:\n",
        "  lst.append(i)"
      ]
    },
    {
      "cell_type": "code",
      "execution_count": null,
      "metadata": {
        "colab": {
          "base_uri": "https://localhost:8080/"
        },
        "id": "cIkgG386V_3y",
        "outputId": "89c02091-9e39-4089-e884-e8a58508f7cd"
      },
      "outputs": [
        {
          "data": {
            "text/plain": [
              "116226"
            ]
          },
          "execution_count": 60,
          "metadata": {},
          "output_type": "execute_result"
        }
      ],
      "source": [
        "len(y)"
      ]
    },
    {
      "cell_type": "code",
      "execution_count": 32,
      "metadata": {
        "id": "mlKHgF6oIEyU"
      },
      "outputs": [],
      "source": [
        "import copy\n",
        "def baseline_ml(target):\n",
        "  # X = tf.convert_to_tensor(df1['vector'], dtype=tf.list) \n",
        "  # Y = tf.convert_to_tensor(df1[target], dtype=tf.int64) \n",
        "  X = df1['vector']\n",
        "  y = np.array(df1[target].to_list())\n",
        "  print(\"NN for  --- \",target)\n",
        "  lst = []\n",
        "  for i in X:\n",
        "    lst.append(i)\n",
        "\n",
        "  from sklearn.model_selection import train_test_split\n",
        "  x_train, x_test, y_train, y_test = train_test_split(np.array(lst), y, test_size=0.25, random_state=0)\n",
        "\n",
        "  model = Sequential()\n",
        "  model.add(Dense(128, input_dim=768, activation='relu'))\n",
        "  model.add(Dense(64, activation='relu'))\n",
        "  model.add(Dense(1, activation='sigmoid'))\n",
        "  model.compile(loss='binary_crossentropy', optimizer='adam', metrics=['accuracy'])\n",
        "  model.fit(x_train, y_train, epochs=20, batch_size=10)\n",
        "\n",
        "  #Prediction using NN\n",
        "  # if target == 'toxic':\n",
        "  #   import pdb; pdb.set_trace()\n",
        "  #   model_toxic_lr = copy.deepcopy(model)\n",
        "  #   import pdb; pdb.set_trace()\n",
        "  # elif target == 'identity_hate':\n",
        "  #   import pdb; pdb.set_trace()\n",
        "  #   model_identity_hate_lr = copy.deepcopy(model)\n",
        "  #   import pdb; pdb.set_trace()\n",
        "  \n",
        "  predictions = (model.predict(x_test) > 0.4).astype('int32')\n",
        "\n",
        "  import matplotlib.pyplot as plt\n",
        "  import seaborn as sns\n",
        "  from sklearn import metrics\n",
        "  cm = metrics.confusion_matrix(y_test, predictions)\n",
        "  print(cm)\n",
        "  precision = metrics.precision_score(y_test, predictions)\n",
        "  recall = metrics.recall_score(y_test, predictions)\n",
        "  F1 = 2 * (precision * recall) / (precision + recall)\n",
        "\n",
        "  print(\"Accuracy of {} -- {}\".format(target, metrics.accuracy_score(y_test, predictions)))\n",
        "  print(\"Precision:\",precision)\n",
        "  print(\"Recall:\",recall)\n",
        "  print(\"F1 Score - \",F1)\n",
        "  print(\"==========\")\n",
        "  print()"
      ]
    },
    {
      "cell_type": "code",
      "source": [
        "#Thresold - 0.4\n",
        "baseline_ml('toxic')"
      ],
      "metadata": {
        "colab": {
          "base_uri": "https://localhost:8080/"
        },
        "id": "OzYvdHIMQFA7",
        "outputId": "33e85791-22a0-4006-84a2-f8ee97918041"
      },
      "execution_count": 33,
      "outputs": [
        {
          "output_type": "stream",
          "name": "stdout",
          "text": [
            "NN for  ---  toxic\n",
            "Epoch 1/20\n",
            "8717/8717 [==============================] - 22s 2ms/step - loss: 0.1608 - accuracy: 0.9366\n",
            "Epoch 2/20\n",
            "8717/8717 [==============================] - 21s 2ms/step - loss: 0.1450 - accuracy: 0.9424\n",
            "Epoch 3/20\n",
            "8717/8717 [==============================] - 22s 2ms/step - loss: 0.1393 - accuracy: 0.9451\n",
            "Epoch 4/20\n",
            "8717/8717 [==============================] - 22s 2ms/step - loss: 0.1347 - accuracy: 0.9458\n",
            "Epoch 5/20\n",
            "8717/8717 [==============================] - 20s 2ms/step - loss: 0.1306 - accuracy: 0.9472\n",
            "Epoch 6/20\n",
            "8717/8717 [==============================] - 21s 2ms/step - loss: 0.1268 - accuracy: 0.9486\n",
            "Epoch 7/20\n",
            "8717/8717 [==============================] - 32s 4ms/step - loss: 0.1237 - accuracy: 0.9500\n",
            "Epoch 8/20\n",
            "8717/8717 [==============================] - 35s 4ms/step - loss: 0.1202 - accuracy: 0.9515\n",
            "Epoch 9/20\n",
            "8717/8717 [==============================] - 35s 4ms/step - loss: 0.1167 - accuracy: 0.9527\n",
            "Epoch 10/20\n",
            "8717/8717 [==============================] - 34s 4ms/step - loss: 0.1134 - accuracy: 0.9536\n",
            "Epoch 11/20\n",
            "8717/8717 [==============================] - 33s 4ms/step - loss: 0.1111 - accuracy: 0.9544\n",
            "Epoch 12/20\n",
            "8717/8717 [==============================] - 34s 4ms/step - loss: 0.1079 - accuracy: 0.9556\n",
            "Epoch 13/20\n",
            "8717/8717 [==============================] - 34s 4ms/step - loss: 0.1049 - accuracy: 0.9570\n",
            "Epoch 14/20\n",
            "8717/8717 [==============================] - 32s 4ms/step - loss: 0.1028 - accuracy: 0.9573\n",
            "Epoch 15/20\n",
            "8717/8717 [==============================] - 31s 4ms/step - loss: 0.1002 - accuracy: 0.9583\n",
            "Epoch 16/20\n",
            "8717/8717 [==============================] - 30s 3ms/step - loss: 0.0979 - accuracy: 0.9590\n",
            "Epoch 17/20\n",
            "8717/8717 [==============================] - 31s 4ms/step - loss: 0.0948 - accuracy: 0.9606\n",
            "Epoch 18/20\n",
            "8717/8717 [==============================] - 30s 3ms/step - loss: 0.0927 - accuracy: 0.9615\n",
            "Epoch 19/20\n",
            "8717/8717 [==============================] - 31s 4ms/step - loss: 0.0907 - accuracy: 0.9617\n",
            "Epoch 20/20\n",
            "8717/8717 [==============================] - 32s 4ms/step - loss: 0.0882 - accuracy: 0.9628\n",
            "[[24385   792]\n",
            " [  898  2982]]\n",
            "Accuracy of toxic -- 0.9418384554496335\n",
            "Precision: 0.7901430842607313\n",
            "Recall: 0.7685567010309279\n",
            "F1 Score -  0.7792004180820487\n",
            "==========\n",
            "\n"
          ]
        }
      ]
    },
    {
      "cell_type": "code",
      "source": [
        "#Threshold - 0.1\n",
        "baseline_ml('identity_hate')"
      ],
      "metadata": {
        "colab": {
          "base_uri": "https://localhost:8080/"
        },
        "id": "186KxnuGTBkO",
        "outputId": "4ca101f2-ca82-43f0-9a23-c69406828e12"
      },
      "execution_count": 28,
      "outputs": [
        {
          "output_type": "stream",
          "name": "stdout",
          "text": [
            "NN for  ---  identity_hate\n",
            "Epoch 1/20\n",
            "8717/8717 [==============================] - 27s 3ms/step - loss: 0.0358 - accuracy: 0.9885\n",
            "Epoch 2/20\n",
            "8717/8717 [==============================] - 20s 2ms/step - loss: 0.0316 - accuracy: 0.9892\n",
            "Epoch 3/20\n",
            "8717/8717 [==============================] - 19s 2ms/step - loss: 0.0297 - accuracy: 0.9897\n",
            "Epoch 4/20\n",
            "8717/8717 [==============================] - 20s 2ms/step - loss: 0.0286 - accuracy: 0.9900\n",
            "Epoch 5/20\n",
            "8717/8717 [==============================] - 21s 2ms/step - loss: 0.0280 - accuracy: 0.9901\n",
            "Epoch 6/20\n",
            "8717/8717 [==============================] - 17s 2ms/step - loss: 0.0273 - accuracy: 0.9901\n",
            "Epoch 7/20\n",
            "8717/8717 [==============================] - 17s 2ms/step - loss: 0.0266 - accuracy: 0.9905\n",
            "Epoch 8/20\n",
            "8717/8717 [==============================] - 18s 2ms/step - loss: 0.0260 - accuracy: 0.9905\n",
            "Epoch 9/20\n",
            "8717/8717 [==============================] - 18s 2ms/step - loss: 0.0257 - accuracy: 0.9908\n",
            "Epoch 10/20\n",
            "8717/8717 [==============================] - 17s 2ms/step - loss: 0.0252 - accuracy: 0.9906\n",
            "Epoch 11/20\n",
            "8717/8717 [==============================] - 18s 2ms/step - loss: 0.0246 - accuracy: 0.9911\n",
            "Epoch 12/20\n",
            "8717/8717 [==============================] - 17s 2ms/step - loss: 0.0238 - accuracy: 0.9907\n",
            "Epoch 13/20\n",
            "8717/8717 [==============================] - 17s 2ms/step - loss: 0.0238 - accuracy: 0.9914\n",
            "Epoch 14/20\n",
            "8717/8717 [==============================] - 17s 2ms/step - loss: 0.0229 - accuracy: 0.9915\n",
            "Epoch 15/20\n",
            "8717/8717 [==============================] - 18s 2ms/step - loss: 0.0228 - accuracy: 0.9913\n",
            "Epoch 16/20\n",
            "8717/8717 [==============================] - 18s 2ms/step - loss: 0.0227 - accuracy: 0.9915\n",
            "Epoch 17/20\n",
            "8717/8717 [==============================] - 18s 2ms/step - loss: 0.0219 - accuracy: 0.9918\n",
            "Epoch 18/20\n",
            "8717/8717 [==============================] - 20s 2ms/step - loss: 0.0216 - accuracy: 0.9919\n",
            "Epoch 19/20\n",
            "8717/8717 [==============================] - 19s 2ms/step - loss: 0.0212 - accuracy: 0.9922\n",
            "Epoch 20/20\n",
            "8717/8717 [==============================] - 18s 2ms/step - loss: 0.0208 - accuracy: 0.9923\n",
            "[[28101   583]\n",
            " [  104   269]]\n",
            "Accuracy of identity_hate -- 0.9763568159135493\n",
            "Precision: 0.31572769953051644\n",
            "Recall: 0.7211796246648794\n",
            "F1 Score -  0.4391836734693877\n",
            "==========\n",
            "\n"
          ]
        }
      ]
    },
    {
      "cell_type": "code",
      "source": [
        "# baseline_ml('insult')\n",
        "# baseline_ml('severe_toxic')\n",
        "# baseline_ml('threat')\n",
        "# baseline_ml('obscene')"
      ],
      "metadata": {
        "id": "rCB_KbS0WMdz"
      },
      "execution_count": null,
      "outputs": []
    }
  ],
  "metadata": {
    "colab": {
      "name": "Neural_Network.ipynb",
      "provenance": []
    },
    "kernelspec": {
      "display_name": "Python 3",
      "name": "python3"
    },
    "language_info": {
      "name": "python"
    }
  },
  "nbformat": 4,
  "nbformat_minor": 0
}