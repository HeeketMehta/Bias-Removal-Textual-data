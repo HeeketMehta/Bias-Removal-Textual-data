{
  "nbformat": 4,
  "nbformat_minor": 0,
  "metadata": {
    "colab": {
      "name": "Wikipedia scraper.ipynb",
      "provenance": []
    },
    "kernelspec": {
      "name": "python3",
      "display_name": "Python 3"
    },
    "language_info": {
      "name": "python"
    }
  },
  "cells": [
    {
      "cell_type": "code",
      "source": [
        "pip install wikipedia"
      ],
      "metadata": {
        "colab": {
          "base_uri": "https://localhost:8080/"
        },
        "id": "PTF2eckZGMZD",
        "outputId": "3789813e-41b2-472b-bf6b-0cc5a7279146"
      },
      "execution_count": 1,
      "outputs": [
        {
          "output_type": "stream",
          "name": "stdout",
          "text": [
            "Collecting wikipedia\n",
            "  Downloading wikipedia-1.4.0.tar.gz (27 kB)\n",
            "Requirement already satisfied: beautifulsoup4 in /usr/local/lib/python3.7/dist-packages (from wikipedia) (4.6.3)\n",
            "Requirement already satisfied: requests<3.0.0,>=2.0.0 in /usr/local/lib/python3.7/dist-packages (from wikipedia) (2.23.0)\n",
            "Requirement already satisfied: urllib3!=1.25.0,!=1.25.1,<1.26,>=1.21.1 in /usr/local/lib/python3.7/dist-packages (from requests<3.0.0,>=2.0.0->wikipedia) (1.24.3)\n",
            "Requirement already satisfied: chardet<4,>=3.0.2 in /usr/local/lib/python3.7/dist-packages (from requests<3.0.0,>=2.0.0->wikipedia) (3.0.4)\n",
            "Requirement already satisfied: idna<3,>=2.5 in /usr/local/lib/python3.7/dist-packages (from requests<3.0.0,>=2.0.0->wikipedia) (2.10)\n",
            "Requirement already satisfied: certifi>=2017.4.17 in /usr/local/lib/python3.7/dist-packages (from requests<3.0.0,>=2.0.0->wikipedia) (2021.10.8)\n",
            "Building wheels for collected packages: wikipedia\n",
            "  Building wheel for wikipedia (setup.py) ... \u001b[?25l\u001b[?25hdone\n",
            "  Created wheel for wikipedia: filename=wikipedia-1.4.0-py3-none-any.whl size=11695 sha256=afb0f7bf2a68a766b0b12d529cb06faf9da44c1d0e1574cc84032dc863e79765\n",
            "  Stored in directory: /root/.cache/pip/wheels/15/93/6d/5b2c68b8a64c7a7a04947b4ed6d89fb557dcc6bc27d1d7f3ba\n",
            "Successfully built wikipedia\n",
            "Installing collected packages: wikipedia\n",
            "Successfully installed wikipedia-1.4.0\n"
          ]
        }
      ]
    },
    {
      "cell_type": "code",
      "source": [
        "import wikipedia"
      ],
      "metadata": {
        "id": "b7SSwmlrXRXq"
      },
      "execution_count": 2,
      "outputs": []
    },
    {
      "cell_type": "code",
      "source": [
        "# search page titles by passing a keyword\n",
        "print(wikipedia.search(\"Coronavirus\"))"
      ],
      "metadata": {
        "colab": {
          "base_uri": "https://localhost:8080/"
        },
        "id": "pO8MB6puXymm",
        "outputId": "c6d59597-6122-4ffb-c090-470d05989de8"
      },
      "execution_count": null,
      "outputs": [
        {
          "output_type": "stream",
          "name": "stdout",
          "text": [
            "['Coronavirus', 'COVID-19 pandemic', 'Severe acute respiratory syndrome coronavirus 2', 'COVID-19 pandemic by country and territory', 'COVID-19', 'COVID-19 pandemic in Italy', 'COVID-19 pandemic in the United States', 'COVID-19 pandemic in the United Kingdom', 'COVID-19 pandemic on cruise ships', 'Betacoronavirus']\n"
          ]
        }
      ]
    },
    {
      "cell_type": "code",
      "source": [
        "print(wikipedia.search(\"Actors\"))"
      ],
      "metadata": {
        "colab": {
          "base_uri": "https://localhost:8080/"
        },
        "id": "YdCHFzOUYpyl",
        "outputId": "13c76d40-6676-406d-f205-2b5c640cb5af"
      },
      "execution_count": null,
      "outputs": [
        {
          "output_type": "stream",
          "name": "stdout",
          "text": [
            "['Actor', 'Screen Actors Guild Awards', 'List of highest-grossing actors', 'Lists of Indian actors', 'Variety Studio: Actors on Actors', 'Character actor', 'Lists of actors', 'The Actors', 'Actors Studio', 'Pornographic film actor']\n"
          ]
        }
      ]
    },
    {
      "cell_type": "code",
      "source": [
        "# get contents of entire page \n",
        "covid = wikipedia.page(\"Coronavirus\")\n",
        "covid.content"
      ],
      "metadata": {
        "colab": {
          "base_uri": "https://localhost:8080/",
          "height": 174
        },
        "id": "aUOY7K53ZHFm",
        "outputId": "251737bb-04dd-45a6-a291-88b5fc970ca9"
      },
      "execution_count": null,
      "outputs": [
        {
          "output_type": "execute_result",
          "data": {
            "application/vnd.google.colaboratory.intrinsic+json": {
              "type": "string"
            },
            "text/plain": [
              "'Coronaviruses are a group of related RNA viruses that cause diseases in mammals and birds. In humans and birds, they cause respiratory tract infections that can range from mild to lethal. Mild illnesses in humans include some cases of the common cold (which is also caused by other viruses, predominantly rhinoviruses), while more lethal varieties can cause SARS, MERS and COVID-19, which is causing an ongoing pandemic. In cows and pigs they cause diarrhea, while in mice they cause hepatitis and encephalomyelitis.\\nCoronaviruses constitute the subfamily Orthocoronavirinae, in the family Coronaviridae, order Nidovirales and realm Riboviria. They are enveloped viruses with a positive-sense single-stranded RNA genome and a nucleocapsid of helical symmetry. The genome size of coronaviruses ranges from approximately 26 to 32 kilobases, one of the largest among RNA viruses. They have characteristic club-shaped spikes that project from their surface, which in electron micrographs create an image reminiscent of the solar corona, from which their name derives.\\n\\n\\n== Etymology ==\\nThe name \"coronavirus\" is derived from Latin corona, meaning \"crown\" or \"wreath\", itself a borrowing from Greek κορώνη korṓnē, \"garland, wreath\". The name was coined by June Almeida and David Tyrrell who first observed and studied human coronaviruses. The word was first used in print in 1968 by an informal group of virologists in the journal Nature to designate the new family of viruses. The name refers to the characteristic appearance of virions (the infective form of the virus) by electron microscopy, which have a fringe of large, bulbous surface projections creating an image reminiscent of the solar corona or halo. This morphology is created by the viral spike peplomers, which are proteins on the surface of the virus.The scientific name Coronavirus was accepted as a genus name by the International Committee for the Nomenclature of Viruses (later renamed International Committee on Taxonomy of Viruses) in 1971. As the number of new species increased, the genus was split into four genera, namely Alphacoronavirus, Betacoronavirus, Deltacoronavirus, and Gammacoronavirus in 2009. The common name coronavirus is used to refer to any member of the subfamily Orthocoronavirinae. As of 2020, 45 species are officially recognised.\\n\\n\\n== History ==\\n\\nThe earliest reports of a coronavirus infection in animals occurred in the late 1920s, when an acute respiratory infection of domesticated chickens emerged in North America. Arthur Schalk and M.C. Hawn in 1931 made the first detailed report which described a new respiratory infection of chickens in North Dakota. The infection of new-born chicks was characterized by gasping and listlessness with high mortality rates of 40–90%. Leland David Bushnell and Carl Alfred Brandly isolated the virus that caused the infection in 1933. The virus was then known as infectious bronchitis virus (IBV). Charles D. Hudson and Fred Robert Beaudette cultivated the virus for the first time in 1937. The specimen came to be known as the Beaudette strain. In the late 1940s, two more animal coronaviruses, JHM that causes brain disease (murine encephalitis) and mouse hepatitis virus (MHV) that causes hepatitis in mice were discovered. It was not realized at the time that these three different viruses were related.Human coronaviruses were discovered in the 1960s using two different methods in the United Kingdom and the United States. E.C. Kendall, Malcolm Bynoe, and David Tyrrell working at the Common Cold Unit of the British Medical Research Council collected a unique common cold virus designated B814 in 1961. The virus could not be cultivated using standard techniques which had successfully cultivated rhinoviruses, adenoviruses and other known common cold viruses. In 1965, Tyrrell and Bynoe successfully cultivated the novel virus by serially passing it through organ culture of human embryonic trachea. The new cultivating method was introduced to the lab by Bertil Hoorn. The isolated virus when intranasally inoculated into volunteers caused a cold and was inactivated by ether which indicated it had a lipid envelope. Dorothy Hamre and John Procknow at the University of Chicago isolated a novel cold from medical students in 1962. They isolated and grew the virus in kidney tissue culture, designating it 229E. The novel virus caused a cold in volunteers and, like B814, was inactivated by ether.\\n\\nScottish virologist June Almeida at St Thomas\\' Hospital in London, collaborating with Tyrrell, compared the structures of IBV, B814 and 229E in 1967. Using electron microscopy the three viruses were shown to be morphologically related by their general shape and distinctive club-like spikes. A research group at the National Institute of Health the same year was able to isolate another member of this new group of viruses using organ culture and named one of the samples OC43 (OC for organ culture). Like B814, 229E, and IBV, the novel cold virus OC43 had distinctive club-like spikes when observed with the electron microscope.The IBV-like novel cold viruses were soon shown to be also morphologically related to the mouse hepatitis virus. This new group of viruses were named coronaviruses after their distinctive morphological appearance. Human coronavirus 229E and human coronavirus OC43 continued to be studied in subsequent decades. The coronavirus strain B814 was lost. It is not known which present human coronavirus it was. Other human coronaviruses have since been identified, including SARS-CoV in 2003, HCoV NL63 in 2003, HCoV HKU1 in 2004, MERS-CoV in 2013, and SARS-CoV-2 in 2019. There have also been a large number of animal coronaviruses identified since the 1960s.\\n\\n\\n== Microbiology ==\\n\\n\\n=== Structure ===\\n\\nCoronaviruses are large, roughly spherical particles with unique surface projections. Their size is highly variable with average diameters of 80 to 120 nm. Extreme sizes are known from 50 to 200 nm in diameter. The total molecular mass is on average 40,000 kDa. They are enclosed in an envelope embedded with a number of protein molecules. The lipid bilayer envelope, membrane proteins, and nucleocapsid protect the virus when it is outside the host cell.The viral envelope is made up of a lipid bilayer in which the membrane (M), envelope (E) and spike (S) structural proteins are anchored. The molar ratio of E:S:M in the lipid bilayer is approximately 1:20:300.  The E and M protein are the structural proteins that combined with the lipid bilayer to shape the viral envelope and maintain its size. S proteins are needed for interaction with the host cells. But human coronavirus NL63 is peculiar in that its M protein has the binding site for the host cell, and not its S protein. The diameter of the envelope is 85 nm. The envelope of the virus in electron micrographs appears as a distinct pair of electron-dense shells (shells that are relatively opaque to the electron beam used to scan the virus particle).The M protein is the main structural protein of the envelope that provides the overall shape and is a type III membrane protein. It consists of 218 to 263 amino acid residues and forms a layer 7.8 nm thick. It has three domains, a short N-terminal ectodomain, a triple-spanning transmembrane domain, and a C-terminal endodomain. The C-terminal domain forms a matrix-like lattice that adds to the extra-thickness of the envelope. Different species can have either N- or O-linked glycans in their protein amino-terminal domain. The M protein is crucial during the assembly, budding, envelope formation, and pathogenesis stages of the virus lifecycle.The E proteins are minor structural proteins and highly variable in different species. There are only about 20 copies of the E protein molecule in a coronavirus particle. They are 8.4 to 12 kDa in size and are composed of 76 to 109 amino acids. They are integral proteins (i.e. embedded in the lipid layer) and have two domains namely a transmembrane domain and an extramembrane C-terminal domain. They are almost fully α-helical, with a single α-helical transmembrane domain, and form pentameric (five-molecular) ion channels in the lipid bilayer. They are responsible for virion assembly, intracellular trafficking and morphogenesis (budding).\\n\\nThe spikes are the most distinguishing feature of coronaviruses and are responsible for the corona- or halo-like surface. On average a coronavirus particle has 74 surface spikes. Each spike is about 20 nm long and is composed of a trimer of the S protein. The S protein is in turn composed of an S1 and S2 subunit. The homotrimeric S protein is a class I fusion protein which mediates the receptor binding and membrane fusion between the virus and host cell. The S1 subunit forms the head of the spike and has the receptor-binding domain (RBD). The S2 subunit forms the stem which anchors the spike in the viral envelope and on protease activation enables fusion. The two subunits remain noncovalently linked as they are exposed on the viral surface until they attach to the host cell membrane. In a functionally active state, three S1 are attached to two S2 subunits. The subunit complex is split into individual subunits when the virus binds and fuses with the host cell under the action of proteases such as cathepsin family and transmembrane protease serine 2 (TMPRSS2) of the host cell.\\n\\nS1 proteins are the most critical components in terms of infection. They are also the most variable components as they are responsible for host cell specificity. They possess two major domains named N-terminal domain (S1-NTD) and C-terminal domain (S1-CTD), both of which serve as the receptor-binding domains. The NTDs recognize and bind sugars on the surface of the host cell. An exception is the MHV NTD that binds to a protein receptor carcinoembryonic antigen-related cell adhesion molecule 1 (CEACAM1). S1-CTDs are responsible for recognizing different protein receptors such as angiotensin-converting enzyme 2 (ACE2), aminopeptidase N (APN), and dipeptidyl peptidase 4 (DPP4).A subset of coronaviruses (specifically the members of betacoronavirus subgroup A) also has a shorter spike-like surface protein called hemagglutinin esterase (HE). The HE proteins occur as homodimers composed of about 400 amino acid residues and are 40 to 50 kDa in size. They appear as tiny surface projections of 5 to 7 nm long embedded in between the spikes. They help in the attachment to and detachment from the host cell.Inside the envelope, there is the nucleocapsid, which is formed from multiple copies of the nucleocapsid (N) protein, which are bound to the positive-sense single-stranded RNA genome in a continuous beads-on-a-string type conformation. N protein is a phosphoprotein of 43 to 50 kDa in size, and is divided into three conserved domains. The majority of the protein is made up of domains 1 and 2, which are typically rich in arginines and lysines. Domain 3 has a short carboxy terminal end and has a net negative charge due to excess of acidic over basic amino acid residues.\\n\\n\\n=== Genome ===\\n\\nCoronaviruses contain a positive-sense, single-stranded RNA genome. The genome size for coronaviruses ranges from 26.4 to 31.7 kilobases. The genome size is one of the largest among RNA viruses. The genome has a 5′ methylated cap and a 3′ polyadenylated tail.The genome organization for a coronavirus is 5′-leader-UTR-replicase (ORF1ab)-spike (S)-envelope (E)-membrane (M)-nucleocapsid (N)-3′UTR-poly (A) tail. The open reading frames 1a and 1b, which occupy the first two-thirds of the genome, encode the replicase polyprotein (pp1ab). The replicase polyprotein self cleaves to form 16 nonstructural proteins (nsp1–nsp16).The later reading frames encode the four major structural proteins: spike, envelope, membrane, and nucleocapsid. Interspersed between these reading frames are the reading frames for the accessory proteins. The number of accessory proteins and their function is unique depending on the specific coronavirus.\\n\\n\\n=== Replication cycle ===\\n\\n\\n==== Cell entry ====\\n\\nInfection begins when the viral spike protein attaches to its complementary host cell receptor. After attachment, a protease of the host cell cleaves and activates the receptor-attached spike protein. Depending on the host cell protease available, cleavage and activation allows the virus to enter the host cell by endocytosis or direct fusion of the viral envelope with the host membrane.\\n\\n\\n==== Genome translation ====\\nOn entry into the host cell, the virus particle is uncoated, and its genome enters the cell cytoplasm. The coronavirus RNA genome has a 5′ methylated cap and a 3′ polyadenylated tail, which allows it to act like a messenger RNA and be directly translated by the host cell\\'s ribosomes. The host ribosomes translate the initial overlapping open reading frames ORF1a and ORF1b of the virus genome into two large overlapping polyproteins, pp1a and pp1ab.The larger polyprotein pp1ab is a result of a -1 ribosomal frameshift caused by a slippery sequence (UUUAAAC) and a downstream RNA pseudoknot at the end of open reading frame ORF1a. The ribosomal frameshift allows for the continuous translation of ORF1a followed by ORF1b.The polyproteins have their own proteases,  PLpro (nsp3) and 3CLpro (nsp5), which cleave the polyproteins at different specific sites. The cleavage of polyprotein pp1ab yields 16 nonstructural proteins (nsp1 to nsp16). Product proteins include various replication  proteins such as RNA-dependent RNA polymerase (nsp12), RNA helicase (nsp13), and exoribonuclease (nsp14).\\n\\n\\n==== Replicase-transcriptase ====\\n\\nA number of the nonstructural proteins coalesce to form a multi-protein replicase-transcriptase complex (RTC). The main replicase-transcriptase protein is the RNA-dependent RNA polymerase (RdRp). It is directly involved in the replication and transcription of RNA from an RNA strand. The other nonstructural proteins in the complex assist in the replication and transcription process. The exoribonuclease nonstructural protein, for instance, provides extra fidelity to replication by providing a proofreading function which the RNA-dependent RNA polymerase lacks.Replication – One of the main functions of the complex is to replicate the viral genome. RdRp directly mediates the synthesis of negative-sense genomic RNA from the positive-sense genomic RNA. This is followed by the replication of positive-sense genomic RNA from the negative-sense genomic RNA.\\n\\nTranscription – The other important function of the complex is to transcribe the viral genome. RdRp directly mediates the synthesis of negative-sense subgenomic RNA molecules from the positive-sense genomic RNA. This process is followed by the transcription of these negative-sense subgenomic RNA molecules to their corresponding positive-sense mRNAs. The subgenomic mRNAs form a \"nested set\" which have a common 5\\'-head and partially duplicate 3\\'-end.Recombination – The replicase-transcriptase complex is also capable of genetic recombination when at least two viral genomes are present in the same infected cell.  RNA recombination appears to be a major driving force in determining genetic variability within a coronavirus species, the capability of a coronavirus species to jump from one host to another and, infrequently, in determining the emergence of novel coronaviruses.  The exact mechanism of recombination in coronaviruses is unclear, but likely involves template switching during genome replication.\\n\\n\\n==== Assembly and release ====\\nThe replicated positive-sense genomic RNA becomes the genome of the progeny viruses. The mRNAs are gene transcripts of the last third of the virus genome after the initial overlapping reading frame. These mRNAs are translated by the host\\'s ribosomes into the structural proteins and many accessory proteins. RNA translation occurs inside the endoplasmic reticulum. The viral structural proteins S, E, and M move along the secretory pathway into the Golgi intermediate compartment. There, the M proteins direct most protein-protein interactions required for the assembly of viruses following its binding to the nucleocapsid. Progeny viruses are then released from the host cell by exocytosis through secretory vesicles. Once released the viruses can infect other host cells.\\n\\n\\n=== Transmission ===\\nInfected carriers are able to shed viruses into the environment. The interaction of the coronavirus spike protein with its complementary cell receptor is central in determining the tissue tropism, infectivity, and species range of the released virus. Coronaviruses mainly target epithelial cells. They are transmitted from one host to another host, depending on the coronavirus species, by either an aerosol, fomite, or fecal-oral route.Human coronaviruses infect the epithelial cells of the respiratory tract, while animal coronaviruses generally infect the epithelial cells of the digestive tract. SARS coronavirus, for example, infects the human epithelial cells of the lungs via an aerosol route by binding to the angiotensin-converting enzyme 2 (ACE2) receptor. Transmissible gastroenteritis coronavirus (TGEV) infects the pig epithelial cells of the digestive tract via a fecal-oral route by binding to the alanine aminopeptidase (APN) receptor.\\n\\n\\n== Classification ==\\n\\nCoronaviruses form the subfamily Orthocoronavirinae, which is one of two sub-families in the family Coronaviridae, order Nidovirales, and realm Riboviria. They are divided into the four genera: Alphacoronavirus, Betacoronavirus, Gammacoronavirus and Deltacoronavirus. Alphacoronaviruses and betacoronaviruses infect mammals, while gammacoronaviruses and deltacoronaviruses primarily infect birds.\\n\\nGenus: Alphacoronavirus;Species: Alphacoronavirus 1 (TGEV, Feline coronavirus, Canine coronavirus), Human coronavirus 229E, Human coronavirus NL63, Miniopterus bat coronavirus 1, Miniopterus bat coronavirus HKU8, Porcine epidemic diarrhea virus, Rhinolophus bat coronavirus HKU2, Scotophilus bat coronavirus 512\\nGenus Betacoronavirus;Species: Betacoronavirus 1 (Bovine Coronavirus, Human coronavirus OC43), Hedgehog coronavirus 1, Human coronavirus HKU1, Middle East respiratory syndrome-related coronavirus, Murine coronavirus, Pipistrellus bat coronavirus HKU5, Rousettus bat coronavirus HKU9, Severe acute respiratory syndrome–related coronavirus (SARS-CoV, SARS-CoV-2), Tylonycteris bat coronavirus HKU4\\nGenus Gammacoronavirus;Species: Avian coronavirus, Beluga whale coronavirus SW1\\nGenus Deltacoronavirus\\nSpecies: Bulbul coronavirus HKU11, Porcine coronavirus HKU15\\n\\n\\n== Origin ==\\n\\nThe most recent common ancestor (MRCA) of all coronaviruses is estimated to have existed as recently as 8000 BCE, although some models place the common ancestor as far back as 55 million years or more, implying long term coevolution with bat and avian species. The most recent common ancestor of the alphacoronavirus line has been placed at about 2400 BCE, of the betacoronavirus line at 3300 BCE, of the gammacoronavirus line at 2800 BCE, and the deltacoronavirus line at about 3000 BCE. Bats and birds, as warm-blooded flying vertebrates, are an ideal natural reservoir for the coronavirus gene pool (with bats the reservoir for alphacoronaviruses and betacoronavirus – and birds the reservoir for gammacoronaviruses and deltacoronaviruses). The large number and global range of bat and avian species that host viruses have enabled extensive evolution and dissemination of coronaviruses.Many human coronaviruses have their origin in bats. The human coronavirus NL63 shared a common ancestor with a bat coronavirus (ARCoV.2) between 1190 and 1449 CE. The human coronavirus 229E shared a common ancestor with a bat coronavirus (GhanaGrp1 Bt CoV) between 1686 and 1800 CE. More recently, alpaca coronavirus and human coronavirus 229E diverged sometime before 1960. MERS-CoV emerged in humans from bats through the intermediate host of camels. MERS-CoV, although related to several bat coronavirus species, appears to have diverged from these several centuries ago. The most closely related bat coronavirus and SARS-CoV diverged in 1986. The ancestors of SARS-CoV first infected leaf-nose bats of the genus Hipposideridae; subsequently, they spread to horseshoe bats in the species Rhinolophidae, then to Asian palm civets, and finally to humans.Unlike other betacoronaviruses, bovine coronavirus of the species Betacoronavirus 1 and subgenus Embecovirus is thought to have originated in rodents and not in bats. In the 1790s, equine coronavirus diverged from the bovine coronavirus after a cross-species jump. Later in the 1890s, human coronavirus OC43 diverged from bovine coronavirus after another cross-species spillover event. It is speculated that the flu pandemic of 1890 may have been caused by this spillover event, and not by the influenza virus, because of the related timing, neurological symptoms, and unknown causative agent of the pandemic. Besides causing respiratory infections, human coronavirus OC43 is also suspected of playing a role in neurological diseases. In the 1950s, the human coronavirus OC43 began to diverge into its present genotypes. Phylogenetically, mouse hepatitis virus (Murine coronavirus), which infects the mouse\\'s liver and central nervous system, is related to human coronavirus OC43 and bovine coronavirus. Human coronavirus HKU1, like the aforementioned viruses, also has its origins in rodents.\\n\\n\\n== Infection in humans ==\\n\\nCoronaviruses vary significantly in risk factor. Some can kill more than 30% of those infected, such as MERS-CoV, and some are relatively harmless, such as the common cold. Coronaviruses can cause colds with major symptoms, such as fever, and a sore throat from swollen adenoids. Coronaviruses can cause pneumonia (either direct viral pneumonia or secondary bacterial pneumonia) and bronchitis (either direct viral bronchitis or secondary bacterial bronchitis). The human coronavirus discovered in 2003, SARS-CoV, which causes severe acute respiratory syndrome (SARS), has a unique pathogenesis because it causes both upper and lower respiratory tract infections.Six species of human coronaviruses are known, with one species subdivided into two different strains, making seven strains of human coronaviruses altogether.\\n\\nFour human coronaviruses produce symptoms that are generally mild, even though it is contended they might have been more aggressive in the past:\\nHuman coronavirus OC43 (HCoV-OC43), β-CoV\\nHuman coronavirus HKU1 (HCoV-HKU1), β-CoV\\nHuman coronavirus 229E (HCoV-229E), α-CoV\\nHuman coronavirus NL63 (HCoV-NL63), α-CoVThree human coronaviruses produce potentially severe symptoms:\\n\\nSevere acute respiratory syndrome coronavirus (SARS-CoV), β-CoV (identified in 2003)\\nMiddle East respiratory syndrome-related coronavirus (MERS-CoV), β-CoV (identified in 2012)\\nSevere acute respiratory syndrome coronavirus 2 (SARS-CoV-2), β-CoV (identified in 2019)These cause the diseases commonly called SARS, MERS, and COVID-19 respectively.\\n\\n\\n=== Common cold ===\\n\\nAlthough the common cold is usually caused by rhinoviruses, in about 15% of cases the cause is a coronavirus. The human coronaviruses HCoV-OC43, HCoV-HKU1, HCoV-229E, and HCoV-NL63 continually circulate in the human population in adults and children worldwide and produce the generally mild symptoms of the common cold. The four mild coronaviruses have a seasonal incidence occurring in the winter months in temperate climates.  There is no preponderance in any season in tropical climates.\\n\\n\\n=== Severe acute respiratory syndrome (SARS) ===\\n\\nIn 2003, following the outbreak of severe acute respiratory syndrome (SARS) which had begun the prior year in Asia, and secondary cases elsewhere in the world, the World Health Organization (WHO) issued a press release stating that a novel coronavirus identified by several laboratories was the causative agent for SARS. The virus was officially named the SARS coronavirus (SARS-CoV). More than 8,000 people from 29 different countries and territories were infected, and at least 774 died.\\n\\n\\n=== Middle East respiratory syndrome (MERS) ===\\n\\nIn September 2012, a new type of coronavirus was identified, initially called Novel Coronavirus 2012, and now officially named Middle East respiratory syndrome coronavirus (MERS-CoV). The World Health Organization issued a global alert soon after. The WHO update on 28 September 2012 said the virus did not seem to pass easily from person to person. However, on 12 May 2013, a case of human-to-human transmission in France was confirmed by the French Ministry of Social Affairs and Health. In addition, cases of human-to-human transmission were reported by the Ministry of Health in Tunisia. Two confirmed cases involved people who seemed to have caught the disease from their late father, who became ill after a visit to Qatar and Saudi Arabia. Despite this, it appears the virus had trouble spreading from human to human, as most individuals who are infected do not transmit the virus. By 30 October 2013, there were 124 cases and 52 deaths in Saudi Arabia.After the Dutch Erasmus Medical Centre sequenced the virus, the virus was given a new name, Human Coronavirus–Erasmus Medical Centre (HCoV-EMC). The final name for the virus is Middle East respiratory syndrome coronavirus (MERS-CoV). The only U.S. cases (both survived) were recorded in May 2014.In May 2015, an outbreak of MERS-CoV occurred in the Republic of Korea, when a man who had traveled to the Middle East, visited four hospitals in the Seoul area to treat his illness. This caused one of the largest outbreaks of MERS-CoV outside the Middle East. As of December 2019, 2,468 cases of MERS-CoV infection had been confirmed by laboratory tests, 851 of which were fatal, a mortality rate of approximately 34.5%.\\n\\n\\n=== Coronavirus disease 2019 (COVID-19) ===\\n\\nIn December 2019, a pneumonia outbreak was reported in Wuhan, China. On 31 December 2019, the outbreak was traced to a novel strain of coronavirus, which was given the interim name 2019-nCoV by the World Health Organization, later renamed SARS-CoV-2 by the International Committee on Taxonomy of Viruses.\\nAs of 31 January 2022, there have been at least 5,667,715 confirmed deaths and more than 375,977,659 confirmed cases in the COVID-19 pandemic. The Wuhan strain has been identified as a new strain of Betacoronavirus from group 2B with approximately 70% genetic similarity to the SARS-CoV. The virus has a 96% similarity to a bat coronavirus, so it is widely suspected to originate from bats as well.\\n\\n\\n=== Coronavirus HuPn-2018 ===\\n\\nDuring a surveillance study of archived samples of Malaysian viral pneumonia patients, virologists identified a strain of canine coronavirus which has infected humans in 2018.\\n\\n\\n=== Flurona ===\\n\\nOn 1 January 2022, Israel reported, for the first time, a case of flurona, a rare mixture of COVID-1 and influenza infections. In Brazil, four cases of the double infection have been identified, including a 16 year-old male from Rio de Janeiro. Having a fever and runny nose, he decided to take a test on 29 December 2021, which came back positive to the two diseases. His mother, doubting the result, had the boy tested in another laboratory, which confirmed again the double infection. In Fortaleza of Ceará state, two children, including a 1 year-old child tested positive without complications and also a 52 year-old man who did not need hospitalization. In São Paulo, the Secretariat of Health announced that its state had 110 cases of flurona in 2021.Flurona infections have also been reported in the United States, the Philippines and Hungary.\\n\\n\\n== Infection in animals ==\\nCoronaviruses have been recognized as causing pathological conditions in veterinary medicine since the 1930s.  They infect a range of animals including swine, cattle, horses, camels, cats, dogs, rodents, birds and bats.  The majority of animal related coronaviruses infect the intestinal tract and are transmitted by a fecal-oral route. Significant research efforts have been focused on elucidating the viral pathogenesis of these animal coronaviruses, especially by virologists interested in veterinary and zoonotic diseases.\\n\\n\\n=== Farm animals ===\\nCoronaviruses infect domesticated birds. Infectious bronchitis virus (IBV), a type of coronavirus, causes avian infectious bronchitis. The virus is of concern to the poultry industry because of the high mortality from infection, its rapid spread, and its effect on production. The virus affects both meat production and egg production and causes substantial economic loss. In chickens, infectious bronchitis virus targets not only the respiratory tract but also the urogenital tract. The virus can spread to different organs throughout the chicken. The virus is transmitted by aerosol and food contaminated by feces. Different vaccines against IBV exist and have helped to limit the spread of the virus and its variants. Infectious bronchitis virus is one of a number of strains of the species Avian coronavirus. Another strain of avian coronavirus is turkey coronavirus (TCV) which causes enteritis in turkeys.Coronaviruses also affect other branches of animal husbandry such as pig farming and the cattle raising. Swine acute diarrhea syndrome coronavirus (SADS-CoV), which is related to bat coronavirus HKU2, causes diarrhea in pigs. Porcine epidemic diarrhea virus (PEDV) is a coronavirus that has recently emerged and similarly causes diarrhea in pigs. Transmissible gastroenteritis virus (TGEV), which is a member of the species Alphacoronavirus 1, is another coronavirus that causes diarrhea in young pigs. In the cattle industry bovine coronavirus (BCV), which is a member of the species Betacoronavirus 1 and related to HCoV-OC43, is responsible for severe profuse enteritis in young calves.\\n\\n\\n=== Domestic pets ===\\nCoronaviruses infect domestic pets such as cats, dogs, and ferrets. There are two forms of feline coronavirus which are both members of the species Alphacoronavirus 1. Feline enteric coronavirus is a pathogen of minor clinical significance, but spontaneous mutation of this virus can result in feline infectious peritonitis (FIP), a disease with high mortality. There are two different coronaviruses that infect dogs. Canine coronavirus (CCoV), which is a member of the species Alphacoronavirus 1, causes mild gastrointestinal disease. Canine respiratory coronavirus (CRCoV), which is a member of the species Betacoronavirus 1 and related to HCoV-OC43, cause respiratory disease. Similarly, there are two types of coronavirus that infect ferrets. Ferret enteric coronavirus causes a gastrointestinal syndrome known as epizootic catarrhal enteritis (ECE), and a more lethal systemic version of the virus (like FIP in cats) known as ferret systemic coronavirus (FSC).\\n\\n\\n=== Laboratory animals ===\\nCoronaviruses infect laboratory animals. Mouse hepatitis virus (MHV), which is a member of the species Murine coronavirus, causes an epidemic murine illness with high mortality, especially among colonies of laboratory mice.  Prior to the discovery of SARS-CoV, MHV was the best-studied coronavirus both in vivo and in vitro as well as at the molecular level.  Some strains of MHV cause a progressive demyelinating encephalitis in mice which has been used as a murine model for multiple sclerosis. Sialodacryoadenitis virus (SDAV), which is a strain of the species Murine coronavirus, is highly infectious coronavirus of laboratory rats, which can be transmitted between individuals by direct contact and indirectly by aerosol.  Rabbit enteric coronavirus causes acute gastrointestinal disease and diarrhea in young European rabbits.  Mortality rates are high.\\n\\n\\n== Prevention and treatment ==\\nA number of vaccines using different methods have been developed against human coronavirus SARS-CoV-2. Antiviral targets against human coronaviruses have also been identified such as viral proteases, polymerases, and entry proteins. Drugs are in development which target these proteins and the different steps of viral replication.Vaccines are available for animal coronaviruses IBV, TGEV, and Canine CoV, although their effectiveness is limited. In the case of outbreaks of highly contagious animal coronaviruses, such as PEDV, measures such as destruction of entire herds of pigs may be used to prevent transmission to other herds.\\n\\n\\n== See also ==\\nCoronavirus diseases\\nZoonosis\\n\\n\\n== References ==\\n\\n\\n== Further reading =='"
            ]
          },
          "metadata": {},
          "execution_count": 5
        }
      ]
    },
    {
      "cell_type": "code",
      "source": [
        "pip install nltk"
      ],
      "metadata": {
        "colab": {
          "base_uri": "https://localhost:8080/"
        },
        "id": "BWlNPu-nGjki",
        "outputId": "9be4a940-9c9e-40cb-d690-e80c88c30f62"
      },
      "execution_count": null,
      "outputs": [
        {
          "output_type": "stream",
          "name": "stdout",
          "text": [
            "Requirement already satisfied: nltk in /usr/local/lib/python3.7/dist-packages (3.2.5)\n",
            "Requirement already satisfied: six in /usr/local/lib/python3.7/dist-packages (from nltk) (1.15.0)\n"
          ]
        }
      ]
    },
    {
      "cell_type": "code",
      "source": [
        "import nltk\n",
        "nltk.download('punkt')"
      ],
      "metadata": {
        "colab": {
          "base_uri": "https://localhost:8080/"
        },
        "id": "Ik8qGWjkGdBq",
        "outputId": "ca7bdba5-2671-4569-899e-76e9cf2a3834"
      },
      "execution_count": 3,
      "outputs": [
        {
          "output_type": "stream",
          "name": "stdout",
          "text": [
            "[nltk_data] Downloading package punkt to /root/nltk_data...\n",
            "[nltk_data]   Unzipping tokenizers/punkt.zip.\n"
          ]
        },
        {
          "output_type": "execute_result",
          "data": {
            "text/plain": [
              "True"
            ]
          },
          "metadata": {},
          "execution_count": 3
        }
      ]
    },
    {
      "cell_type": "code",
      "source": [
        "sentences_list = []"
      ],
      "metadata": {
        "id": "1Zo3nhBgvzhG"
      },
      "execution_count": null,
      "outputs": []
    },
    {
      "cell_type": "code",
      "source": [
        "# get summary from wikipedia\n",
        "sd = wikipedia.summary(\"Bloody\")\n",
        "sd"
      ],
      "metadata": {
        "colab": {
          "base_uri": "https://localhost:8080/",
          "height": 174
        },
        "id": "KTE8-Rh_Ywfg",
        "outputId": "d5708ac1-8dd5-4583-fdac-a64d71dc2367"
      },
      "execution_count": null,
      "outputs": [
        {
          "output_type": "execute_result",
          "data": {
            "application/vnd.google.colaboratory.intrinsic+json": {
              "type": "string"
            },
            "text/plain": [
              "'Blood is a body fluid in humans and other animals that delivers necessary substances such as nutrients and oxygen to the cells and transports metabolic waste products away from those same cells.In vertebrates, it is composed of blood cells suspended in blood plasma. Plasma, which constitutes 55% of blood fluid, is mostly water (92% by volume), and contains proteins, glucose, mineral ions, hormones, carbon dioxide (plasma being the main medium for excretory product transportation), and blood cells themselves. Albumin is the main protein in plasma, and it functions to regulate the colloidal osmotic pressure of blood. The blood cells are mainly red blood cells (also called RBCs or erythrocytes), white blood cells (also called WBCs or leukocytes) and platelets (also called thrombocytes). The most abundant cells in vertebrate blood are red blood cells. These contain hemoglobin, an iron-containing protein, which facilitates oxygen transport by reversibly binding to this respiratory gas and greatly increasing its solubility in blood. In contrast, carbon dioxide is mostly transported extracellularly as bicarbonate ion transported in plasma.\\nVertebrate blood is bright red when its hemoglobin is oxygenated and dark red when it is deoxygenated. Some animals, such as crustaceans and mollusks, use hemocyanin to carry oxygen, instead of hemoglobin. Insects and some mollusks use a fluid called hemolymph instead of blood, the difference being that hemolymph is not contained in a closed circulatory system. In most insects, this \"blood\" does not contain oxygen-carrying molecules such as hemoglobin because their bodies are small enough for their tracheal system to suffice for supplying oxygen.\\nJawed vertebrates have an adaptive immune system, based largely on white blood cells. White blood cells help to resist infections and parasites. Platelets are important in the clotting of blood. Arthropods, using hemolymph, have hemocytes as part of their immune system.\\nBlood is circulated around the body through blood vessels by the pumping action of the heart. In animals with lungs, arterial blood carries oxygen from inhaled air to the tissues of the body, and venous blood carries carbon dioxide, a waste product of metabolism produced by cells, from the tissues to the lungs to be exhaled.\\nMedical terms related to blood often begin with hemo- or hemato- (also spelled haemo- and haemato-) from the Greek word αἷμα (haima) for \"blood\". In terms of anatomy and histology, blood is considered a specialized form of connective tissue, given its origin in the bones and the presence of potential molecular fibers in the form of fibrinogen.'"
            ]
          },
          "metadata": {},
          "execution_count": 14
        }
      ]
    },
    {
      "cell_type": "code",
      "source": [
        "# split paragraphs into sentences\n",
        "a_list = nltk.tokenize.sent_tokenize(sd)"
      ],
      "metadata": {
        "id": "YjW7_oEoGfV9"
      },
      "execution_count": null,
      "outputs": []
    },
    {
      "cell_type": "code",
      "source": [
        "for a in a_list:\n",
        "  sentences_list.append(a)"
      ],
      "metadata": {
        "id": "ObQIeEfGGvAz"
      },
      "execution_count": null,
      "outputs": []
    },
    {
      "cell_type": "code",
      "source": [
        "len(sentences_list)\n"
      ],
      "metadata": {
        "colab": {
          "base_uri": "https://localhost:8080/"
        },
        "id": "tTXHvJHRGv26",
        "outputId": "ddad1922-7ddb-4ddd-96b3-68083c14d2b6"
      },
      "execution_count": null,
      "outputs": [
        {
          "output_type": "execute_result",
          "data": {
            "text/plain": [
              "17"
            ]
          },
          "metadata": {},
          "execution_count": 13
        }
      ]
    },
    {
      "cell_type": "code",
      "source": [
        "sentences_list = []\n",
        "words = ['coast', 'car loan', 'polka dots', 'ticks', 'stretch']\n",
        "for w in words:\n",
        "  try:\n",
        "    sd = wikipedia.summary(w)\n",
        "    a_list = nltk.tokenize.sent_tokenize(sd)\n",
        "    for a in a_list:\n",
        "      sentences_list.append(a)\n",
        "  except:\n",
        "    continue\n",
        "\n",
        "sentences_list"
      ],
      "metadata": {
        "id": "A5uCIndVyF3F",
        "colab": {
          "base_uri": "https://localhost:8080/"
        },
        "outputId": "140fdedc-69f9-4b67-ece4-b074f0a0fadb"
      },
      "execution_count": 30,
      "outputs": [
        {
          "output_type": "stream",
          "name": "stderr",
          "text": [
            "/usr/local/lib/python3.7/dist-packages/wikipedia/wikipedia.py:389: UserWarning: No parser was explicitly specified, so I'm using the best available HTML parser for this system (\"lxml\"). This usually isn't a problem, but if you run this code on another system, or in a different virtual environment, it may use a different parser and behave differently.\n",
            "\n",
            "The code that caused this warning is on line 389 of the file /usr/local/lib/python3.7/dist-packages/wikipedia/wikipedia.py. To get rid of this warning, pass the additional argument 'features=\"lxml\"' to the BeautifulSoup constructor.\n",
            "\n",
            "  lis = BeautifulSoup(html).find_all('li')\n"
          ]
        },
        {
          "output_type": "execute_result",
          "data": {
            "text/plain": [
              "['A court is any person or institution, often as a government institution, with the authority to adjudicate legal disputes between parties and carry out the administration of justice in civil, criminal, and administrative matters in accordance with the rule of law.',\n",
              " 'In both common law and civil law legal systems, courts are the central means for dispute resolution, and it is generally understood that all people have an ability to bring their claims before a court.',\n",
              " 'Similarly, the rights of those accused of a crime include the right to present a defense before a court.',\n",
              " 'The system of courts that interprets and applies the law is collectively known as the judiciary.',\n",
              " 'The place where a court sits is known as a venue.',\n",
              " 'The room where court proceedings occur is known as a courtroom, and the building as a courthouse; court facilities range from simple and very small facilities in rural communities to large buildings in cities.',\n",
              " 'The practical authority given to the court is known as its jurisdiction (from Latin iūrisdictiō, from iūris, \"of the law,\" + dīcō, \"to declare,\" + -tiō, noun-forming suffix), the court\\'s power to decide certain kinds of questions or petitions put to it.',\n",
              " \"According to William Blackstone's Commentaries on the Laws of England, a court (for civil wrongs) is constituted by a minimum of three parties: the āctor or plaintiff, who complains of an injury done; the reus or defendant, who is called upon to make satisfaction for it; and the jūdex or judicial power, who is to examine the truth of the fact, determine the law arising upon that fact, and, if any injury appears to have been done, ascertain and by its officers apply a legal remedy.\",\n",
              " 'It is also usual in the superior courts to have barristers, and attorneys or counsel, as assistants, though, often, courts consist of additional barristers, bailiffs, reporters, and perhaps a jury.',\n",
              " 'The term \"the court\" is also used to refer to the presiding officer or officials, usually one or more judges.',\n",
              " 'The judge or panel of judges may also be collectively referred to as \"the bench\" (in contrast to attorneys and barristers, collectively referred to as \"the bar\").In the United States, the legal authority of a court to take action is based on personal jurisdiction over the parties to the litigation and subject-matter jurisdiction over the claims asserted.',\n",
              " 'In finance, a loan is the lending of money by one or more individuals, organizations, or other entities to other individuals, organizations etc.',\n",
              " 'The recipient (i.e., the borrower) incurs a debt and is usually liable to pay interest on that debt until it is repaid as well as to repay the principal amount borrowed.',\n",
              " 'The document evidencing the debt (e.g., a promissory note) will normally specify, among other things, the principal amount of money borrowed, the interest rate the lender is charging, and the date of repayment.',\n",
              " 'A loan entails the reallocation of the subject asset(s) for a period of time, between the lender and the borrower.',\n",
              " 'The interest provides an incentive for the lender to engage in the loan.',\n",
              " 'In a legal loan, each of these obligations and restrictions is enforced by contract, which can also place the borrower under additional restrictions known as loan covenants.',\n",
              " 'Although this article focuses on monetary loans, in practice, any material object might be lent.',\n",
              " 'Acting as a provider of loans is one of the main activities of financial institutions such as banks and credit card companies.',\n",
              " 'For other institutions, issuing of debt contracts such as bonds is a typical source of funding.',\n",
              " \"Polka dot is a pattern consisting of an array of large filled circles of the same size.Polka dots are commonly seen on children's clothing, toys, furniture, ceramics, and Central European folk art but they appear in a wide array of contexts.\",\n",
              " 'The pattern rarely appears in formal contexts, and is generally confined to more playful attire such as bathing suits and lingerie.',\n",
              " 'Occasionally, white-on-black small dots appear on more formal clothing.',\n",
              " 'Ticks (suborder Ixodida) are parasitic arachnids that are part of the mite superorder Parasitiformes.',\n",
              " 'Adult ticks are approximately 3 to 5 mm in length depending on age, sex, species, and \"fullness\".',\n",
              " 'Ticks are external parasites, living by feeding on the blood of mammals, birds, and sometimes reptiles and amphibians.',\n",
              " 'The timing of the origin of ticks is uncertain, though the oldest known tick fossils are from the Cretaceous period, around 100 million years old.',\n",
              " 'Ticks are widely distributed around the world, especially in warm, humid climates.',\n",
              " 'Ticks belong to two major families, the Ixodidae or hard ticks, and the Argasidae, or soft ticks.',\n",
              " 'Nuttalliella, a genus of tick from southern Africa is the only member of the family Nuttalliellidae, and represents the most primitive living lineage of ticks.',\n",
              " 'Adults have ovoid/pear-shaped bodies (idiosomas) which become engorged with blood when they feed, and eight legs.',\n",
              " 'Their cephalothorax and abdomen are completely fused.',\n",
              " 'In addition to having a hard shield on their dorsal surfaces, known as the scutum, hard ticks have a beak-like structure at the front containing the mouthparts, whereas soft ticks have their mouthparts on the underside of their bodies.',\n",
              " 'Ticks locate potential hosts by sensing odor, body heat, moisture, and/or vibrations in the environment.Ticks have four stages to their lifecycle, namely egg, larva, nymph, and adult.',\n",
              " 'Ticks belonging to the Ixodidae family undergo either a one-host, two-host, or three-host lifestyle.',\n",
              " 'Argasid ticks have up to seven nymphal stages (instars), each one requiring blood ingestion, Argasid ticks undergo a multihost lifestyle.',\n",
              " 'Because of their hematophagous (blood-ingesting) diets, ticks act as vectors of many serious diseases that affect humans and other animals.']"
            ]
          },
          "metadata": {},
          "execution_count": 30
        }
      ]
    },
    {
      "cell_type": "code",
      "source": [
        "words = []\n",
        "with open(\"/content/words.txt\") as file:\n",
        "    for line in file:\n",
        "        words.append(line.rstrip())"
      ],
      "metadata": {
        "id": "E8GUESE53anp"
      },
      "execution_count": 4,
      "outputs": []
    },
    {
      "cell_type": "code",
      "source": [
        "len(words)"
      ],
      "metadata": {
        "colab": {
          "base_uri": "https://localhost:8080/"
        },
        "id": "unI4Wsa75_dU",
        "outputId": "c1e90a9e-0e4b-40a5-eeeb-7003c24d6095"
      },
      "execution_count": 5,
      "outputs": [
        {
          "output_type": "execute_result",
          "data": {
            "text/plain": [
              "3010"
            ]
          },
          "metadata": {},
          "execution_count": 5
        }
      ]
    },
    {
      "cell_type": "code",
      "source": [
        "sentences_list = []\n",
        "#words = ['coast', 'car loan', 'polka dots', 'ticks', 'stretch']\n",
        "for w in words:\n",
        "  try:\n",
        "    sd = wikipedia.summary(w)\n",
        "    a_list = nltk.tokenize.sent_tokenize(sd)\n",
        "    for a in a_list:\n",
        "      sentences_list.append(a)\n",
        "  except:\n",
        "    continue\n",
        "\n",
        "len(sentences_list)"
      ],
      "metadata": {
        "colab": {
          "base_uri": "https://localhost:8080/"
        },
        "id": "VIF3kOfI6fTc",
        "outputId": "d782d2df-099b-4c27-fdeb-2d404a46c3ed"
      },
      "execution_count": 6,
      "outputs": [
        {
          "output_type": "stream",
          "name": "stderr",
          "text": [
            "/usr/local/lib/python3.7/dist-packages/wikipedia/wikipedia.py:389: UserWarning: No parser was explicitly specified, so I'm using the best available HTML parser for this system (\"lxml\"). This usually isn't a problem, but if you run this code on another system, or in a different virtual environment, it may use a different parser and behave differently.\n",
            "\n",
            "The code that caused this warning is on line 389 of the file /usr/local/lib/python3.7/dist-packages/wikipedia/wikipedia.py. To get rid of this warning, pass the additional argument 'features=\"lxml\"' to the BeautifulSoup constructor.\n",
            "\n",
            "  lis = BeautifulSoup(html).find_all('li')\n"
          ]
        },
        {
          "output_type": "execute_result",
          "data": {
            "text/plain": [
              "19008"
            ]
          },
          "metadata": {},
          "execution_count": 6
        }
      ]
    },
    {
      "cell_type": "code",
      "source": [
        "import pandas as pd\n",
        "df = pd.DataFrame(sentences_list) "
      ],
      "metadata": {
        "id": "cp_apVRH6pV7"
      },
      "execution_count": 8,
      "outputs": []
    },
    {
      "cell_type": "code",
      "source": [
        "sentences = df.to_csv(\"Wikipedia_list.csv\", index = False)"
      ],
      "metadata": {
        "id": "Os1LeJmW7NBQ"
      },
      "execution_count": 10,
      "outputs": []
    },
    {
      "cell_type": "code",
      "source": [
        "#sentences_list"
      ],
      "metadata": {
        "id": "PMEyrdRBB6IF"
      },
      "execution_count": 11,
      "outputs": []
    },
    {
      "cell_type": "code",
      "source": [
        ""
      ],
      "metadata": {
        "id": "Mi9uFESqCPxb"
      },
      "execution_count": null,
      "outputs": []
    }
  ]
}