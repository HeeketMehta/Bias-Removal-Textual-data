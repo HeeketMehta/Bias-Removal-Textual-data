{
  "nbformat": 4,
  "nbformat_minor": 0,
  "metadata": {
    "colab": {
      "name": "Naive Bayes.ipynb",
      "provenance": []
    },
    "kernelspec": {
      "name": "python3",
      "display_name": "Python 3"
    },
    "language_info": {
      "name": "python"
    },
    "accelerator": "GPU"
  },
  "cells": [
    {
      "cell_type": "code",
      "source": [
        "import nltk\n",
        "nltk.download('stopwords')"
      ],
      "metadata": {
        "colab": {
          "base_uri": "https://localhost:8080/"
        },
        "id": "Av9ZGp2QGJct",
        "outputId": "3d6fb190-5a7d-4b0d-f2a0-388db242a1f1"
      },
      "execution_count": 1,
      "outputs": [
        {
          "output_type": "stream",
          "name": "stdout",
          "text": [
            "[nltk_data] Downloading package stopwords to /root/nltk_data...\n",
            "[nltk_data]   Unzipping corpora/stopwords.zip.\n"
          ]
        },
        {
          "output_type": "execute_result",
          "data": {
            "text/plain": [
              "True"
            ]
          },
          "metadata": {},
          "execution_count": 1
        }
      ]
    },
    {
      "cell_type": "code",
      "execution_count": 2,
      "metadata": {
        "id": "Fwob1b3fF2aw"
      },
      "outputs": [],
      "source": [
        "%matplotlib inline\n",
        "import re\n",
        "import matplotlib\n",
        "import numpy as np\n",
        "import matplotlib.pyplot as plt\n",
        "import pandas as pd\n",
        "from sklearn.model_selection import train_test_split\n",
        "from sklearn.feature_extraction.text import TfidfVectorizer\n",
        "from sklearn.naive_bayes import MultinomialNB\n",
        "from sklearn.metrics import accuracy_score\n",
        "from sklearn.multiclass import OneVsRestClassifier\n",
        "from nltk.corpus import stopwords\n",
        "stop_words = set(stopwords.words('english'))\n",
        "from sklearn.svm import LinearSVC\n",
        "from sklearn.linear_model import LogisticRegression\n",
        "from sklearn.pipeline import Pipeline\n",
        "import seaborn as sns\n",
        "from sklearn.metrics import confusion_matrix"
      ]
    },
    {
      "cell_type": "code",
      "source": [
        "from google.colab import drive\n",
        "drive.mount('/content/gdrive')"
      ],
      "metadata": {
        "colab": {
          "base_uri": "https://localhost:8080/"
        },
        "id": "znSSyroEGG67",
        "outputId": "8b71eec1-21d7-478c-b29a-c42b969f0da5"
      },
      "execution_count": 3,
      "outputs": [
        {
          "output_type": "stream",
          "name": "stdout",
          "text": [
            "Mounted at /content/gdrive\n"
          ]
        }
      ]
    },
    {
      "cell_type": "code",
      "source": [
        "df = pd.read_csv(r'/content/gdrive/MyDrive/balanced_train.csv')"
      ],
      "metadata": {
        "id": "_Lruf1BzGSiM"
      },
      "execution_count": 4,
      "outputs": []
    },
    {
      "cell_type": "code",
      "source": [
        "categories = ['toxic', 'obscene', 'insult']"
      ],
      "metadata": {
        "id": "JyOhiahfGccK"
      },
      "execution_count": 18,
      "outputs": []
    },
    {
      "cell_type": "markdown",
      "source": [
        "### Clean the data by removing all the stop words"
      ],
      "metadata": {
        "id": "-KPi8VTNGDDq"
      }
    },
    {
      "cell_type": "code",
      "source": [
        "# function to clean text\n",
        "def clean_text(text):\n",
        "    text = text.lower()\n",
        "    text = re.sub(r\"what's\", \"what is \", text)\n",
        "    text = re.sub(r\"\\'s\", \" \", text)\n",
        "    text = re.sub(r\"\\'ve\", \" have \", text)\n",
        "    text = re.sub(r\"can't\", \"can not \", text)\n",
        "    text = re.sub(r\"n't\", \" not \", text)\n",
        "    text = re.sub(r\"i'm\", \"i am \", text)\n",
        "    text = re.sub(r\"\\'re\", \" are \", text)\n",
        "    text = re.sub(r\"\\'d\", \" would \", text)\n",
        "    text = re.sub(r\"\\'ll\", \" will \", text)\n",
        "    text = re.sub(r\"\\'scuse\", \" excuse \", text)\n",
        "    text = re.sub('\\W', ' ', text)\n",
        "    text = re.sub('\\s+', ' ', text)\n",
        "    text = text.strip(' ')\n",
        "    return text"
      ],
      "metadata": {
        "id": "Ic6TGfAXGkYB"
      },
      "execution_count": 6,
      "outputs": []
    },
    {
      "cell_type": "code",
      "source": [
        "df['comment_text'] = df['comment_text'].map(lambda com : clean_text(com))"
      ],
      "metadata": {
        "id": "2aKRILyBGnas"
      },
      "execution_count": 19,
      "outputs": []
    },
    {
      "cell_type": "code",
      "source": [
        "train, test = train_test_split(df, random_state=42, test_size=0.25, shuffle=True)"
      ],
      "metadata": {
        "id": "dqsAveAkGpjn"
      },
      "execution_count": 20,
      "outputs": []
    },
    {
      "cell_type": "code",
      "source": [
        "X_train = train.comment_text\n",
        "X_test = test.comment_text\n",
        "print(X_train.shape)\n",
        "print(X_test.shape)"
      ],
      "metadata": {
        "colab": {
          "base_uri": "https://localhost:8080/"
        },
        "id": "eYFwwXP8G04D",
        "outputId": "fa86b13b-c8c3-4d03-c917-e0676009628f"
      },
      "execution_count": 21,
      "outputs": [
        {
          "output_type": "stream",
          "name": "stdout",
          "text": [
            "(30918,)\n",
            "(10307,)\n"
          ]
        }
      ]
    },
    {
      "cell_type": "markdown",
      "source": [
        "# Naive Bayes"
      ],
      "metadata": {
        "id": "4mGfypk5G-8h"
      }
    },
    {
      "cell_type": "code",
      "source": [
        "# Define a pipeline combining a text feature extractor with multi lable classifier\n",
        "NB_pipeline = Pipeline([\n",
        "                ('tfidf', TfidfVectorizer(stop_words=stop_words)),\n",
        "                ('clf', OneVsRestClassifier(MultinomialNB(\n",
        "                    fit_prior=True, class_prior=None))),\n",
        "            ])"
      ],
      "metadata": {
        "id": "IksFa3B2G27u"
      },
      "execution_count": 22,
      "outputs": []
    },
    {
      "cell_type": "code",
      "source": [
        "NB_pipeline.fit(X_train, train['toxic'])"
      ],
      "metadata": {
        "colab": {
          "base_uri": "https://localhost:8080/"
        },
        "id": "GY_fqm58HKqs",
        "outputId": "7735cfa2-d769-45eb-fe1f-73f4ea86c351"
      },
      "execution_count": 11,
      "outputs": [
        {
          "output_type": "execute_result",
          "data": {
            "text/plain": [
              "Pipeline(steps=[('tfidf',\n",
              "                 TfidfVectorizer(stop_words={'a', 'about', 'above', 'after',\n",
              "                                             'again', 'against', 'ain', 'all',\n",
              "                                             'am', 'an', 'and', 'any', 'are',\n",
              "                                             'aren', \"aren't\", 'as', 'at', 'be',\n",
              "                                             'because', 'been', 'before',\n",
              "                                             'being', 'below', 'between',\n",
              "                                             'both', 'but', 'by', 'can',\n",
              "                                             'couldn', \"couldn't\", ...})),\n",
              "                ('clf', OneVsRestClassifier(estimator=MultinomialNB()))])"
            ]
          },
          "metadata": {},
          "execution_count": 11
        }
      ]
    },
    {
      "cell_type": "code",
      "source": [
        "prediction = NB_pipeline.predict(X_test)"
      ],
      "metadata": {
        "id": "A4vUhRouHNUi"
      },
      "execution_count": 12,
      "outputs": []
    },
    {
      "cell_type": "code",
      "source": [
        "len(test['toxic'])"
      ],
      "metadata": {
        "colab": {
          "base_uri": "https://localhost:8080/"
        },
        "id": "1wOv-A1gHTAR",
        "outputId": "1e6b57fd-5b6a-4ca2-fc87-50422565f559"
      },
      "execution_count": 13,
      "outputs": [
        {
          "output_type": "execute_result",
          "data": {
            "text/plain": [
              "10307"
            ]
          },
          "metadata": {},
          "execution_count": 13
        }
      ]
    },
    {
      "cell_type": "code",
      "source": [
        "len(prediction)"
      ],
      "metadata": {
        "colab": {
          "base_uri": "https://localhost:8080/"
        },
        "id": "9E-00SHnHWGD",
        "outputId": "13911b6a-ec5e-4f5c-fc88-8bd26ef3b917"
      },
      "execution_count": 14,
      "outputs": [
        {
          "output_type": "execute_result",
          "data": {
            "text/plain": [
              "10307"
            ]
          },
          "metadata": {},
          "execution_count": 14
        }
      ]
    },
    {
      "cell_type": "code",
      "source": [
        "accuracy_score(test['toxic'], prediction)"
      ],
      "metadata": {
        "colab": {
          "base_uri": "https://localhost:8080/"
        },
        "id": "zdWuxzv0Hm4m",
        "outputId": "f2b54282-3862-47e0-8386-6c296f381789"
      },
      "execution_count": 15,
      "outputs": [
        {
          "output_type": "execute_result",
          "data": {
            "text/plain": [
              "0.8452508004268944"
            ]
          },
          "metadata": {},
          "execution_count": 15
        }
      ]
    },
    {
      "cell_type": "code",
      "source": [
        "from sklearn import metrics\n",
        "for category in categories:\n",
        "    print(\"Naive Bayes -\",category)\n",
        "    \n",
        "    # train the model using X_dtm & y\n",
        "    NB_pipeline.fit(X_train, train[category])\n",
        "    \n",
        "    # compute the testing accuracy\n",
        "    prediction = NB_pipeline.predict(X_test)\n",
        "    print('Test accuracy is {}'.format(accuracy_score(test[category], prediction)))\n",
        "    print(confusion_matrix(test[category], prediction))\n",
        "    print(\"----\")\n",
        "\n",
        "    precision = metrics.precision_score(test[category], prediction)\n",
        "    recall = metrics.recall_score(test[category], prediction)\n",
        "\n",
        "    if precision != 0.0 or recall != 0.0:\n",
        "      F1 = 2 * (precision * recall) / (precision + recall)\n",
        "\n",
        "      print(\"Precision:\",precision)\n",
        "      print(\"Recall:\",recall)\n",
        "      print(\"F1 Score - \",F1)\n",
        "\n",
        "    print(\"===============\")\n",
        "    print()"
      ],
      "metadata": {
        "colab": {
          "base_uri": "https://localhost:8080/"
        },
        "id": "6DSWeAMeHsIs",
        "outputId": "2e1c435a-7374-48d2-96bd-d07500f54d9b"
      },
      "execution_count": 23,
      "outputs": [
        {
          "output_type": "stream",
          "name": "stdout",
          "text": [
            "Naive Bayes - toxic\n",
            "Test accuracy is 0.8452508004268944\n",
            "[[6249  204]\n",
            " [1391 2463]]\n",
            "----\n",
            "Precision: 0.9235095613048369\n",
            "Recall: 0.6390762843798651\n",
            "F1 Score -  0.7554056126360987\n",
            "===============\n",
            "\n",
            "Naive Bayes - obscene\n",
            "Test accuracy is 0.8526244299990298\n",
            "[[8139   32]\n",
            " [1487  649]]\n",
            "----\n",
            "Precision: 0.9530102790014684\n",
            "Recall: 0.3038389513108614\n",
            "F1 Score -  0.460773872914448\n",
            "===============\n",
            "\n",
            "Naive Bayes - insult\n",
            "Test accuracy is 0.837586106529543\n",
            "[[8259   51]\n",
            " [1623  374]]\n",
            "----\n",
            "Precision: 0.88\n",
            "Recall: 0.1872809213820731\n",
            "F1 Score -  0.30883567299752274\n",
            "===============\n",
            "\n"
          ]
        }
      ]
    }
  ]
}