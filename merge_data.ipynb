{
  "nbformat": 4,
  "nbformat_minor": 0,
  "metadata": {
    "colab": {
      "name": "merge_data.ipynb",
      "provenance": [],
      "collapsed_sections": []
    },
    "kernelspec": {
      "name": "python3",
      "display_name": "Python 3"
    },
    "language_info": {
      "name": "python"
    }
  },
  "cells": [
    {
      "cell_type": "code",
      "execution_count": 33,
      "metadata": {
        "id": "LfGvqVnvngCP"
      },
      "outputs": [],
      "source": [
        "import csv\n",
        "\n",
        "final_data = []\n",
        "\n",
        "files_path = ['/content/Wikipedia_list.csv', '/content/sentences 2.csv', '/content/sentences 3.csv', '/content/sentences 4.csv', '/content/sentences 5.csv', '/content/sentences 6.csv', '/content/sentences.csv']\n",
        "\n",
        "for p in files_path:\n",
        "  with open(p, newline='') as csvfile:\n",
        "      file = csv.reader(csvfile, delimiter=',')\n",
        "      for row in file:\n",
        "          final_data.append(row[0])"
      ]
    },
    {
      "cell_type": "code",
      "source": [
        "import pandas as pd\n",
        "\n",
        "df = pd.DataFrame(final_data)\n",
        "\n",
        "df.to_csv('final_data.csv', encoding='utf-8')"
      ],
      "metadata": {
        "id": "DSFktPLQthYQ"
      },
      "execution_count": 37,
      "outputs": []
    },
    {
      "cell_type": "code",
      "source": [
        "len(final_data)"
      ],
      "metadata": {
        "colab": {
          "base_uri": "https://localhost:8080/"
        },
        "id": "3RdqTJ7jtLFj",
        "outputId": "499e176f-dc2a-4f2b-b9ba-ce03ec1a7385"
      },
      "execution_count": 34,
      "outputs": [
        {
          "output_type": "execute_result",
          "data": {
            "text/plain": [
              "73200"
            ]
          },
          "metadata": {},
          "execution_count": 34
        }
      ]
    }
  ]
}